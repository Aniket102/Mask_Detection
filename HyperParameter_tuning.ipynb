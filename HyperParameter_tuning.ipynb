{
 "cells": [
  {
   "cell_type": "code",
   "execution_count": 100,
   "id": "cc64da48",
   "metadata": {},
   "outputs": [],
   "source": [
    "import tensorflow as tf\n",
    "from tensorflow.keras.models import Sequential\n",
    "from tensorflow.keras.layers import Conv2D, MaxPooling2D, Dropout, Flatten, Dense\n",
    "from tensorflow.keras.optimizers import Adam\n",
    "from tensorflow.keras.preprocessing.image import ImageDataGenerator\n",
    "import numpy as np\n",
    "import matplotlib.pyplot as plt\n",
    "import os"
   ]
  },
  {
   "cell_type": "code",
   "execution_count": 101,
   "id": "263f6fce",
   "metadata": {},
   "outputs": [],
   "source": [
    "import keras\n",
    "import keras.utils\n",
    "from keras import utils as np_utils"
   ]
  },
  {
   "cell_type": "code",
   "execution_count": 102,
   "id": "a452c745",
   "metadata": {},
   "outputs": [],
   "source": [
    "main_dir = r\"C:\\Users\\Aniket Verma\\Desktop\\Covid Mask Detection\\New Masks Dataset\"\n",
    "train_dir = os.path.join(main_dir,'Train')\n",
    "test_dir = os.path.join(main_dir,'Test')\n",
    "valid_dir = os.path.join(main_dir,'Validation')\n",
    "train_mask_dir = os.path.join(train_dir,'Mask')\n",
    "train_nomask_dir = os.path.join(train_dir,'Non Mask')\n"
   ]
  },
  {
   "cell_type": "code",
   "execution_count": 103,
   "id": "66a002e6",
   "metadata": {},
   "outputs": [
    {
     "name": "stdout",
     "output_type": "stream",
     "text": [
      "['0003.jpg', '0006.jpg', '0018.jpg', '0019.jpg', '0022.jpg', '0027.jpg', '0029.jpg', '0037.jpg', '0040.jpg', '0042.jpg']\n",
      "300\n",
      "300\n",
      "['0.jpg', '1.jpg', '10.jpg', '100.jpg', '101.jpg', '102.jpg', '104.jpg', '105.jpg', '106.jpg', '107.jpg']\n"
     ]
    }
   ],
   "source": [
    "train_mask_names = os.listdir(train_mask_dir)\n",
    "print(train_mask_names[:10])                      #check if your directory is linked properly\n",
    "print(len(train_mask_names))\n",
    "train_nomask_names = os.listdir(train_nomask_dir) \n",
    "print(len(train_nomask_names))\n",
    "print(train_nomask_names[:10])"
   ]
  },
  {
   "cell_type": "code",
   "execution_count": 104,
   "id": "5face744",
   "metadata": {},
   "outputs": [
    {
     "name": "stdout",
     "output_type": "stream",
     "text": [
      "Found 600 images belonging to 2 classes.\n",
      "Found 100 images belonging to 2 classes.\n",
      "Found 306 images belonging to 2 classes.\n"
     ]
    }
   ],
   "source": [
    "train_datagen = ImageDataGenerator(rescale=1./255,\n",
    "                                   zoom_range = 0.2,\n",
    "                                   rotation_range = 40,\n",
    "                                   horizontal_flip = True\n",
    "                                   )\n",
    "test_datagen = ImageDataGenerator(rescale=1./255)\n",
    "validation_datagen = ImageDataGenerator(rescale=1./255)\n",
    "\n",
    "train_generator = train_datagen.flow_from_directory(train_dir,\n",
    "                                                    target_size=(150,150),\n",
    "                                                    batch_size = 32,\n",
    "                                                    class_mode = 'binary'\n",
    "                                                    )\n",
    "test_generator = test_datagen.flow_from_directory(test_dir,\n",
    "                                                    target_size=(150,150),\n",
    "                                                    batch_size = 32,\n",
    "                                                    class_mode = 'binary'\n",
    "                                                    )\n",
    "valid_generator = validation_datagen.flow_from_directory(valid_dir,\n",
    "                                                    target_size=(150,150),\n",
    "                                                    batch_size = 32,\n",
    "                                                    class_mode = 'binary'\n",
    "                                                    )"
   ]
  },
  {
   "cell_type": "code",
   "execution_count": 105,
   "id": "f2bfa7bd",
   "metadata": {},
   "outputs": [],
   "source": [
    "train_img,train_labels = train_generator.next()\n",
    "test_img,test_labels = test_generator.next()"
   ]
  },
  {
   "cell_type": "code",
   "execution_count": 106,
   "id": "3b72ca16",
   "metadata": {},
   "outputs": [],
   "source": [
    "def build_model(hp):  \n",
    "  model = keras.Sequential([\n",
    "    keras.layers.Conv2D(\n",
    "        filters=hp.Int('conv_1_filter', min_value=32, max_value=128, step=16),\n",
    "        kernel_size=hp.Choice('conv_1_kernel', values = [3,5]),\n",
    "        activation='relu',\n",
    "        input_shape=(150,150,3)\n",
    "    ),\n",
    "    keras.layers.Conv2D(\n",
    "        filters=hp.Int('conv_2_filter', min_value=32, max_value=64, step=16),\n",
    "        kernel_size=hp.Choice('conv_2_kernel', values = [3,5]),\n",
    "        activation='relu'\n",
    "    ),\n",
    "    keras.layers.Flatten(),\n",
    "    keras.layers.Dense(\n",
    "        units=hp.Int('dense_1_units', min_value=32, max_value=128, step=16),\n",
    "        activation='relu'\n",
    "    ),\n",
    "    keras.layers.Dense(1, activation='sigmoid')\n",
    "  ])\n",
    "  \n",
    "  model.compile(optimizer=keras.optimizers.Adam(hp.Choice('learning_rate', values=[1e-2, 1e-3])),\n",
    "              loss='binary_crossentropy',\n",
    "              metrics=['accuracy'])\n",
    "\n",
    "  \n",
    "  return model"
   ]
  },
  {
   "cell_type": "code",
   "execution_count": 107,
   "id": "cfbd44c1",
   "metadata": {},
   "outputs": [],
   "source": [
    "from keras_tuner import RandomSearch\n",
    "from keras_tuner.engine.hyperparameters import HyperParameters"
   ]
  },
  {
   "cell_type": "code",
   "execution_count": 108,
   "id": "13d8d767",
   "metadata": {},
   "outputs": [
    {
     "name": "stdout",
     "output_type": "stream",
     "text": [
      "INFO:tensorflow:Reloading Oracle from existing project output3\\tuning3\\oracle.json\n"
     ]
    }
   ],
   "source": [
    "tuner_search=RandomSearch(build_model,\n",
    "                          objective='val_accuracy',\n",
    "                          max_trials=7,directory='output3',project_name=\"tuning3\")"
   ]
  },
  {
   "cell_type": "code",
   "execution_count": 109,
   "id": "20a8ffea",
   "metadata": {},
   "outputs": [
    {
     "name": "stdout",
     "output_type": "stream",
     "text": [
      "Trial 7 Complete [00h 04m 48s]\n",
      "val_accuracy: 0.6470588445663452\n",
      "\n",
      "Best val_accuracy So Far: 0.7352941036224365\n",
      "Total elapsed time: 00h 38m 46s\n",
      "INFO:tensorflow:Oracle triggered exit\n"
     ]
    }
   ],
   "source": [
    "\n",
    "tuner_search.search(train_img,train_labels,epochs=10,validation_data=valid_generator)\n"
   ]
  },
  {
   "cell_type": "code",
   "execution_count": 110,
   "id": "8b35df52",
   "metadata": {},
   "outputs": [],
   "source": [
    "model=tuner_search.get_best_models(num_models=1)[0]"
   ]
  },
  {
   "cell_type": "code",
   "execution_count": 111,
   "id": "dbd1e383",
   "metadata": {
    "scrolled": false
   },
   "outputs": [
    {
     "name": "stdout",
     "output_type": "stream",
     "text": [
      "Epoch 11/20\n",
      "19/19 [==============================] - 375s 19s/step - loss: 0.9275 - accuracy: 0.7300 - val_loss: 0.5236 - val_accuracy: 0.7418\n",
      "Epoch 12/20\n",
      "19/19 [==============================] - ETA: 0s - loss: 0.5154 - accuracy: 0.7767  - ETA: 46s - loss: 0.5317 - accuracy:  - 473s 26s/step - loss: 0.5154 - accuracy: 0.7767 - val_loss: 0.3326 - val_accuracy: 0.8791\n",
      "Epoch 13/20\n",
      "19/19 [==============================] - 455s 16s/step - loss: 0.2913 - accuracy: 0.8917 - val_loss: 0.4946 - val_accuracy: 0.8137\n",
      "Epoch 14/20\n",
      "19/19 [==============================] - 176s 9s/step - loss: 0.4204 - accuracy: 0.8167 - val_loss: 0.4981 - val_accuracy: 0.7908\n",
      "Epoch 15/20\n",
      "19/19 [==============================] - 169s 9s/step - loss: 0.3212 - accuracy: 0.8800 - val_loss: 0.6802 - val_accuracy: 0.7810\n",
      "Epoch 16/20\n",
      "19/19 [==============================] - 166s 9s/step - loss: 0.3372 - accuracy: 0.8783 - val_loss: 0.6172 - val_accuracy: 0.7418\n",
      "Epoch 17/20\n",
      "19/19 [==============================] - 171s 9s/step - loss: 0.4572 - accuracy: 0.8133 - val_loss: 0.5089 - val_accuracy: 0.7876\n",
      "Epoch 18/20\n",
      "19/19 [==============================] - 164s 9s/step - loss: 0.3283 - accuracy: 0.8767 - val_loss: 0.3514 - val_accuracy: 0.8529\n",
      "Epoch 19/20\n",
      "19/19 [==============================] - 462s 25s/step - loss: 0.2725 - accuracy: 0.8933 - val_loss: 0.4929 - val_accuracy: 0.8235\n",
      "Epoch 20/20\n",
      "19/19 [==============================] - 278s 13s/step - loss: 0.3194 - accuracy: 0.8800 - val_loss: 0.2765 - val_accuracy: 0.8856\n"
     ]
    }
   ],
   "source": [
    "history=model.fit(train_generator, validation_data = valid_generator, epochs=20, initial_epoch=10)"
   ]
  },
  {
   "cell_type": "code",
   "execution_count": 112,
   "id": "81799b95",
   "metadata": {},
   "outputs": [
    {
     "data": {
      "text/plain": [
       "Text(0.5, 0, 'epoch')"
      ]
     },
     "execution_count": 112,
     "metadata": {},
     "output_type": "execute_result"
    },
    {
     "data": {
      "image/png": "[encoded data removed]",
      "text/plain": [
       "<Figure size 432x288 with 1 Axes>"
      ]
     },
     "metadata": {
      "needs_background": "light"
     },
     "output_type": "display_data"
    }
   ],
   "source": [
    "plt.plot(history.history['loss'])\n",
    "plt.plot(history.history['val_loss'])\n",
    "plt.legend(['trainig','validation'])\n",
    "plt.title('Training and validation loss')\n",
    "plt.xlabel('epoch')"
   ]
  },
  {
   "cell_type": "code",
   "execution_count": 113,
   "id": "7d3a4f7d",
   "metadata": {},
   "outputs": [
    {
     "data": {
      "text/plain": [
       "Text(0.5, 0, 'epoch')"
      ]
     },
     "execution_count": 113,
     "metadata": {},
     "output_type": "execute_result"
    },
    {
     "data": {
      "image/png": "[encoded data removed]",
      "text/plain": [
       "<Figure size 432x288 with 1 Axes>"
      ]
     },
     "metadata": {
      "needs_background": "light"
     },
     "output_type": "display_data"
    }
   ],
   "source": [
    "plt.plot(history.history['accuracy'])\n",
    "plt.plot(history.history['val_accuracy'])\n",
    "plt.legend(['trainig','validation'])\n",
    "plt.title('Training and validation accuracy')\n",
    "plt.xlabel('epoch')"
   ]
  },
  {
   "cell_type": "code",
   "execution_count": 114,
   "id": "f1488a38",
   "metadata": {},
   "outputs": [
    {
     "name": "stdout",
     "output_type": "stream",
     "text": [
      "4/4 [==============================] - 16s 4s/step - loss: 0.2244 - accuracy: 0.9100\n",
      "test acc :0.9100000262260437 test loss:0.22441457211971283\n"
     ]
    }
   ],
   "source": [
    "test_loss , test_acc = model.evaluate(test_generator)\n",
    "print('test acc :{} test loss:{}'.format(test_acc,test_loss))"
   ]
  },
  {
   "cell_type": "code",
   "execution_count": null,
   "id": "a55ce6ef",
   "metadata": {},
   "outputs": [],
   "source": []
  }
 ],
 "metadata": {
  "kernelspec": {
   "display_name": "Python 3",
   "language": "python",
   "name": "python3"
  },
  "language_info": {
   "codemirror_mode": {
    "name": "ipython",
    "version": 3
   },
   "file_extension": ".py",
   "mimetype": "text/x-python",
   "name": "python",
   "nbconvert_exporter": "python",
   "pygments_lexer": "ipython3",
   "version": "3.9.5"
  }
 },
 "nbformat": 4,
 "nbformat_minor": 5
}
